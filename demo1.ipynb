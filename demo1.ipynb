{
  "nbformat": 4,
  "nbformat_minor": 0,
  "metadata": {
    "colab": {
      "name": "demo1.ipynb",
      "provenance": [],
      "collapsed_sections": []
    },
    "kernelspec": {
      "name": "python3",
      "display_name": "Python 3"
    },
    "language_info": {
      "name": "python"
    }
  },
  "cells": [
    {
      "cell_type": "markdown",
      "source": [
        "# COLAB NEDİR?"
      ],
      "metadata": {
        "id": "_k8sFRkFAQyS"
      }
    },
    {
      "cell_type": "code",
      "execution_count": null,
      "metadata": {
        "colab": {
          "base_uri": "https://localhost:8080/"
        },
        "id": "l1NFBf1S9cq8",
        "outputId": "402bbac8-af00-42db-ed2d-3320a65578b3"
      },
      "outputs": [
        {
          "output_type": "stream",
          "name": "stdout",
          "text": [
            "Mounted at /content/drive\n"
          ]
        }
      ],
      "source": [
        "from google.colab import drive\n",
        "drive.mount('/content/drive')"
      ]
    },
    {
      "cell_type": "markdown",
      "source": [
        "collab notebook'u google drive'ımıza mount(monte) islemi.\n",
        "ornek olarak driver'daki dosyaları goruntulemek ıcın ıslem:"
      ],
      "metadata": {
        "id": "r7rMtEdT9umq"
      }
    },
    {
      "cell_type": "code",
      "source": [
        "!ls '/content/drive/My Drive'"
      ],
      "metadata": {
        "colab": {
          "base_uri": "https://localhost:8080/"
        },
        "id": "LXHEm98S-Qed",
        "outputId": "5c57e498-6bca-4b7a-dc13-cb5de2088591"
      },
      "execution_count": null,
      "outputs": [
        {
          "output_type": "stream",
          "name": "stdout",
          "text": [
            "'Colab Notebooks'   demo\n"
          ]
        }
      ]
    },
    {
      "cell_type": "markdown",
      "source": [
        "driver'ımızdaki dosyalar karsimiza bu sekilde geldi. \n",
        "\n",
        "calisma alanimiza internetten veri seti(dataset) indirmek istersek:"
      ],
      "metadata": {
        "id": "jBO11Bdv-dHG"
      }
    },
    {
      "cell_type": "code",
      "source": [
        "!wget https://raw.githubusercontent.com/vincentarelbundock/Rdatasets/master/csv/datasets/Titanic.csv -P '/content/drive/My Drive/demo'"
      ],
      "metadata": {
        "colab": {
          "base_uri": "https://localhost:8080/"
        },
        "id": "8RniA1B5-tFt",
        "outputId": "a346429d-e34e-45dc-937d-315f44f6f860"
      },
      "execution_count": null,
      "outputs": [
        {
          "output_type": "stream",
          "name": "stdout",
          "text": [
            "--2022-07-20 14:21:47--  https://raw.githubusercontent.com/vincentarelbundock/Rdatasets/master/csv/datasets/Titanic.csv\n",
            "Resolving raw.githubusercontent.com (raw.githubusercontent.com)... 185.199.108.133, 185.199.109.133, 185.199.110.133, ...\n",
            "Connecting to raw.githubusercontent.com (raw.githubusercontent.com)|185.199.108.133|:443... connected.\n",
            "HTTP request sent, awaiting response... 200 OK\n",
            "Length: 1170 (1.1K) [text/plain]\n",
            "Saving to: ‘/content/drive/My Drive/demo/Titanic.csv’\n",
            "\n",
            "Titanic.csv         100%[===================>]   1.14K  --.-KB/s    in 0s      \n",
            "\n",
            "2022-07-20 14:21:47 (29.2 MB/s) - ‘/content/drive/My Drive/demo/Titanic.csv’ saved [1170/1170]\n",
            "\n"
          ]
        }
      ]
    },
    {
      "cell_type": "markdown",
      "source": [
        "boylece titanic.csv örnek veri seti driver'ımıza indirildi. simdi bu veri setini notebook'umuza aktaralım: veri seti yuklenmesi icin pandas kutuphanesı kullanılacak. pandas kutuphanesi pd kısaltması ıle ımport edilir. daha sonra pandas'taki pd.read_csv(dosyayolu) metodu kullanılır. en son okunan bu veri seti \"titanic\" isimli bir degiskene atanır. sonra bu \"titanic\" degiskenindeki veri setinin head(ilk 5verisi) kısmı head ile bastırılır."
      ],
      "metadata": {
        "id": "0icgm7Xl_MJG"
      }
    },
    {
      "cell_type": "code",
      "source": [
        "import pandas as pd\n",
        "titanic = pd.read_csv('/content/drive/My Drive/demo/Titanic.csv')\n",
        "titanic.head()"
      ],
      "metadata": {
        "colab": {
          "base_uri": "https://localhost:8080/",
          "height": 206
        },
        "id": "7LKJv3g9_v-j",
        "outputId": "87b5b766-8a0a-4f82-ed77-b4b76562ce44"
      },
      "execution_count": null,
      "outputs": [
        {
          "output_type": "execute_result",
          "data": {
            "text/plain": [
              "   Unnamed: 0 Class     Sex    Age Survived  Freq\n",
              "0           1   1st    Male  Child       No     0\n",
              "1           2   2nd    Male  Child       No     0\n",
              "2           3   3rd    Male  Child       No    35\n",
              "3           4  Crew    Male  Child       No     0\n",
              "4           5   1st  Female  Child       No     0"
            ],
            "text/html": [
              "\n",
              "  <div id=\"df-6f1f8b13-7b8c-4f8c-ae36-00022eff8a47\">\n",
              "    <div class=\"colab-df-container\">\n",
              "      <div>\n",
              "<style scoped>\n",
              "    .dataframe tbody tr th:only-of-type {\n",
              "        vertical-align: middle;\n",
              "    }\n",
              "\n",
              "    .dataframe tbody tr th {\n",
              "        vertical-align: top;\n",
              "    }\n",
              "\n",
              "    .dataframe thead th {\n",
              "        text-align: right;\n",
              "    }\n",
              "</style>\n",
              "<table border=\"1\" class=\"dataframe\">\n",
              "  <thead>\n",
              "    <tr style=\"text-align: right;\">\n",
              "      <th></th>\n",
              "      <th>Unnamed: 0</th>\n",
              "      <th>Class</th>\n",
              "      <th>Sex</th>\n",
              "      <th>Age</th>\n",
              "      <th>Survived</th>\n",
              "      <th>Freq</th>\n",
              "    </tr>\n",
              "  </thead>\n",
              "  <tbody>\n",
              "    <tr>\n",
              "      <th>0</th>\n",
              "      <td>1</td>\n",
              "      <td>1st</td>\n",
              "      <td>Male</td>\n",
              "      <td>Child</td>\n",
              "      <td>No</td>\n",
              "      <td>0</td>\n",
              "    </tr>\n",
              "    <tr>\n",
              "      <th>1</th>\n",
              "      <td>2</td>\n",
              "      <td>2nd</td>\n",
              "      <td>Male</td>\n",
              "      <td>Child</td>\n",
              "      <td>No</td>\n",
              "      <td>0</td>\n",
              "    </tr>\n",
              "    <tr>\n",
              "      <th>2</th>\n",
              "      <td>3</td>\n",
              "      <td>3rd</td>\n",
              "      <td>Male</td>\n",
              "      <td>Child</td>\n",
              "      <td>No</td>\n",
              "      <td>35</td>\n",
              "    </tr>\n",
              "    <tr>\n",
              "      <th>3</th>\n",
              "      <td>4</td>\n",
              "      <td>Crew</td>\n",
              "      <td>Male</td>\n",
              "      <td>Child</td>\n",
              "      <td>No</td>\n",
              "      <td>0</td>\n",
              "    </tr>\n",
              "    <tr>\n",
              "      <th>4</th>\n",
              "      <td>5</td>\n",
              "      <td>1st</td>\n",
              "      <td>Female</td>\n",
              "      <td>Child</td>\n",
              "      <td>No</td>\n",
              "      <td>0</td>\n",
              "    </tr>\n",
              "  </tbody>\n",
              "</table>\n",
              "</div>\n",
              "      <button class=\"colab-df-convert\" onclick=\"convertToInteractive('df-6f1f8b13-7b8c-4f8c-ae36-00022eff8a47')\"\n",
              "              title=\"Convert this dataframe to an interactive table.\"\n",
              "              style=\"display:none;\">\n",
              "        \n",
              "  <svg xmlns=\"http://www.w3.org/2000/svg\" height=\"24px\"viewBox=\"0 0 24 24\"\n",
              "       width=\"24px\">\n",
              "    <path d=\"M0 0h24v24H0V0z\" fill=\"none\"/>\n",
              "    <path d=\"M18.56 5.44l.94 2.06.94-2.06 2.06-.94-2.06-.94-.94-2.06-.94 2.06-2.06.94zm-11 1L8.5 8.5l.94-2.06 2.06-.94-2.06-.94L8.5 2.5l-.94 2.06-2.06.94zm10 10l.94 2.06.94-2.06 2.06-.94-2.06-.94-.94-2.06-.94 2.06-2.06.94z\"/><path d=\"M17.41 7.96l-1.37-1.37c-.4-.4-.92-.59-1.43-.59-.52 0-1.04.2-1.43.59L10.3 9.45l-7.72 7.72c-.78.78-.78 2.05 0 2.83L4 21.41c.39.39.9.59 1.41.59.51 0 1.02-.2 1.41-.59l7.78-7.78 2.81-2.81c.8-.78.8-2.07 0-2.86zM5.41 20L4 18.59l7.72-7.72 1.47 1.35L5.41 20z\"/>\n",
              "  </svg>\n",
              "      </button>\n",
              "      \n",
              "  <style>\n",
              "    .colab-df-container {\n",
              "      display:flex;\n",
              "      flex-wrap:wrap;\n",
              "      gap: 12px;\n",
              "    }\n",
              "\n",
              "    .colab-df-convert {\n",
              "      background-color: #E8F0FE;\n",
              "      border: none;\n",
              "      border-radius: 50%;\n",
              "      cursor: pointer;\n",
              "      display: none;\n",
              "      fill: #1967D2;\n",
              "      height: 32px;\n",
              "      padding: 0 0 0 0;\n",
              "      width: 32px;\n",
              "    }\n",
              "\n",
              "    .colab-df-convert:hover {\n",
              "      background-color: #E2EBFA;\n",
              "      box-shadow: 0px 1px 2px rgba(60, 64, 67, 0.3), 0px 1px 3px 1px rgba(60, 64, 67, 0.15);\n",
              "      fill: #174EA6;\n",
              "    }\n",
              "\n",
              "    [theme=dark] .colab-df-convert {\n",
              "      background-color: #3B4455;\n",
              "      fill: #D2E3FC;\n",
              "    }\n",
              "\n",
              "    [theme=dark] .colab-df-convert:hover {\n",
              "      background-color: #434B5C;\n",
              "      box-shadow: 0px 1px 3px 1px rgba(0, 0, 0, 0.15);\n",
              "      filter: drop-shadow(0px 1px 2px rgba(0, 0, 0, 0.3));\n",
              "      fill: #FFFFFF;\n",
              "    }\n",
              "  </style>\n",
              "\n",
              "      <script>\n",
              "        const buttonEl =\n",
              "          document.querySelector('#df-6f1f8b13-7b8c-4f8c-ae36-00022eff8a47 button.colab-df-convert');\n",
              "        buttonEl.style.display =\n",
              "          google.colab.kernel.accessAllowed ? 'block' : 'none';\n",
              "\n",
              "        async function convertToInteractive(key) {\n",
              "          const element = document.querySelector('#df-6f1f8b13-7b8c-4f8c-ae36-00022eff8a47');\n",
              "          const dataTable =\n",
              "            await google.colab.kernel.invokeFunction('convertToInteractive',\n",
              "                                                     [key], {});\n",
              "          if (!dataTable) return;\n",
              "\n",
              "          const docLinkHtml = 'Like what you see? Visit the ' +\n",
              "            '<a target=\"_blank\" href=https://colab.research.google.com/notebooks/data_table.ipynb>data table notebook</a>'\n",
              "            + ' to learn more about interactive tables.';\n",
              "          element.innerHTML = '';\n",
              "          dataTable['output_type'] = 'display_data';\n",
              "          await google.colab.output.renderOutput(dataTable, element);\n",
              "          const docLink = document.createElement('div');\n",
              "          docLink.innerHTML = docLinkHtml;\n",
              "          element.appendChild(docLink);\n",
              "        }\n",
              "      </script>\n",
              "    </div>\n",
              "  </div>\n",
              "  "
            ]
          },
          "metadata": {},
          "execution_count": 5
        }
      ]
    },
    {
      "cell_type": "code",
      "source": [
        ""
      ],
      "metadata": {
        "id": "wuQ7n43pALR9"
      },
      "execution_count": null,
      "outputs": []
    },
    {
      "cell_type": "markdown",
      "source": [
        ""
      ],
      "metadata": {
        "id": "ZCOdto6OAgD8"
      }
    },
    {
      "cell_type": "markdown",
      "source": [
        "# COLAB İLE VERİ ANALİZİ"
      ],
      "metadata": {
        "id": "rxKRRt7aAn3y"
      }
    },
    {
      "cell_type": "markdown",
      "source": [
        "COLAB hizmeti ile tensorflow, keras, pytorch yada sklearn gibi python kutuphaneleri calısılabilir. ornek olarak sklearn kutuphanesı kullanarak bir machine learning analizi yapılsın:\n",
        "\n",
        "oncelıkle unlu iris veri setini(dataset) sklearn'den yuklendı. sonrasında iris degiskenine ataması yapıldı.\n",
        "***BİLGİ: notebook'ta bır metod hakkında bılgı almak ıcın \"load_iris()?\" seklinde metod sonuna soru isareti konulur. sagda cıkan barda yardım dosyası karsımıza gelır.    "
      ],
      "metadata": {
        "id": "ovAFqcqPBS_R"
      }
    },
    {
      "cell_type": "code",
      "source": [
        "from sklearn.datasets import load_iris\n",
        "iris = load_iris()"
      ],
      "metadata": {
        "id": "eSPM69sBBu-r"
      },
      "execution_count": null,
      "outputs": []
    },
    {
      "cell_type": "code",
      "source": [
        "load_iris?"
      ],
      "metadata": {
        "id": "VEMKo-CICVuM"
      },
      "execution_count": null,
      "outputs": []
    },
    {
      "cell_type": "markdown",
      "source": [
        "iris veri seti; 3 bitki türüne ve her bir turden 50 ornek olmak uzere toplam 150 ornege sahıptır. her bır ornek ıcın 4 ozellık tanımlanmaları vardır. \n",
        "\n",
        "iris veri setinin girdi ve cıktılarının ayrılması ıslemını gerceklestirilmesi:"
      ],
      "metadata": {
        "id": "3Av4Vw56Cj1U"
      }
    },
    {
      "cell_type": "code",
      "source": [
        "X = iris.data\n",
        "y = iris.target"
      ],
      "metadata": {
        "id": "k6s6lFdFCgyE"
      },
      "execution_count": null,
      "outputs": []
    },
    {
      "cell_type": "markdown",
      "source": [
        "en sık kullanılan kumeleme teknıklerınden Kmeans algoritmasını kullanarak iris ciceginin 2 ozelliginin turlerını sınıflandırılması.\n",
        "\n",
        "oncelıkle  Kmeans sınıfı import edildi. ardından bu sınıftan k_means'e atamak uzerıne bır ornek alındı. sonra fit metodu ile model kurulumu yapılır. sonra x girdilerinin tahmini için k_means.predict(x) yazılır. y_pred'e atanır.(predict=tahmin)."
      ],
      "metadata": {
        "id": "W81scALNDFR9"
      }
    },
    {
      "cell_type": "code",
      "source": [
        "from sklearn.cluster import KMeans\n",
        "k_means = KMeans(n_clusters=3, random_state=0)\n",
        "k_means.fit(X)\n",
        "y_pred = k_means.predict(X)"
      ],
      "metadata": {
        "id": "yqSu6JVOD8Mj"
      },
      "execution_count": null,
      "outputs": []
    },
    {
      "cell_type": "markdown",
      "source": [
        " TAHMİNLER BU KISIMDA YAPILMIS OLUR. BU TAHMINLERIN GORSELLESTIRILMESI ICIN:\n",
        "\n",
        "gorsellestirme icin matplotlib kutuphanesi plt kısaltması ıle ımport edilir. plt.scatter ile scatter(saçılım grafiği) grafiği çizdirilmesi yapılır. bunun ıcın plt.scatter(ilkoznitelik,ikincioznitelik,c argümanına da y_pred) seklinde parametreler yollanır. \n",
        "\n",
        "sonrasında plt.xlabel ve plt.ylabel ile grafik eksenleri isimlendirilir.\n",
        "\n",
        "plt.show metodu ile de grafik ekrana cizdirilir."
      ],
      "metadata": {
        "id": "fdEmt_BzGGY1"
      }
    },
    {
      "cell_type": "code",
      "source": [
        "import matplotlib.pyplot as plt\n",
        "plt.scatter(X[:,0], X[:,1], c=y_pred)\n",
        "plt.xlabel('sepal length')\n",
        "plt.ylabel('sepal width')\n",
        "plt.show()"
      ],
      "metadata": {
        "colab": {
          "base_uri": "https://localhost:8080/",
          "height": 282
        },
        "id": "ZmfivzhAGHDT",
        "outputId": "b0c922a6-a7b6-4b25-8109-8c2d3a09c45e"
      },
      "execution_count": null,
      "outputs": [
        {
          "output_type": "display_data",
          "data": {
            "text/plain": [
              "<Figure size 432x288 with 1 Axes>"
            ],
            "image/png": "[encoded data removed]"
          },
          "metadata": {
            "needs_background": "light"
          }
        }
      ]
    },
    {
      "cell_type": "markdown",
      "source": [
        "Bu sayede iris cicegi sepal uzunlugu ve genisligi (length and width) türleri sınıflandırılmıs oldu. mavi, mor ve sarı türlerin isimlerini belirtiyor. (mavi = setosa, sarı = versicolor, mor = virginica) "
      ],
      "metadata": {
        "id": "mXK3zltQG_Bp"
      }
    },
    {
      "cell_type": "markdown",
      "source": [
        "# GİTHUB'DA REPO KLONLAYARAK COLAB'DA CALISMA YAPMAK"
      ],
      "metadata": {
        "id": "JKDO4HjcI8TH"
      }
    },
    {
      "cell_type": "markdown",
      "source": [
        "1)herhangi bir repo'ya gidilir.\n",
        "2)\"clone or download\" butonu ile repo'nun web adresi kopyalanır.\n",
        "3)notebook'a \"!pwd\" komutuyla calisma dizinine gelinir. calisma dizini biraz once acılan icinde bulunulan klasör'e getirilir.(bu ornek ıcın demo klasoru.) bunun ıcın oncelıkle os modulu ımport edılır. ardından bu moduldekı \"os.chdir\" metodu ile calisma dizini yolu(path) girilir. tekrardan !pwd ile bulunulan calisma dizini kontrol edilir. dizin klasorumuze(ornegımız ıcın demo klasoru) gelmistir.    "
      ],
      "metadata": {
        "id": "LdoztwGoJNbp"
      }
    },
    {
      "cell_type": "code",
      "source": [
        "!pwd"
      ],
      "metadata": {
        "colab": {
          "base_uri": "https://localhost:8080/"
        },
        "id": "_PRs-qiwKd_I",
        "outputId": "60bf3600-5751-45e7-b504-2fe6005937f0"
      },
      "execution_count": null,
      "outputs": [
        {
          "output_type": "stream",
          "name": "stdout",
          "text": [
            "/content\n"
          ]
        }
      ]
    },
    {
      "cell_type": "code",
      "source": [
        "import os\n",
        "os.chdir(\"/content/drive/My Drive/demo\")"
      ],
      "metadata": {
        "id": "HX4H8EoOKzBT"
      },
      "execution_count": null,
      "outputs": []
    },
    {
      "cell_type": "code",
      "source": [
        "!pwd"
      ],
      "metadata": {
        "colab": {
          "base_uri": "https://localhost:8080/"
        },
        "id": "5yKQT9FBK_Ch",
        "outputId": "295ef904-0ceb-4187-c6bd-d38de2de0094"
      },
      "execution_count": null,
      "outputs": [
        {
          "output_type": "stream",
          "name": "stdout",
          "text": [
            "/content/drive/My Drive/demo\n"
          ]
        }
      ]
    },
    {
      "cell_type": "markdown",
      "source": [
        "calisma dizinindeki dosyaların gorulebilmesi icin \"!ls\" komutu kullanılır."
      ],
      "metadata": {
        "id": "L5zPUwHJLC8d"
      }
    },
    {
      "cell_type": "code",
      "source": [
        "!ls"
      ],
      "metadata": {
        "colab": {
          "base_uri": "https://localhost:8080/"
        },
        "id": "m32ucS_7LLQZ",
        "outputId": "d92e9cd9-3f58-46a3-f67a-26f6f2733c9e"
      },
      "execution_count": null,
      "outputs": [
        {
          "output_type": "stream",
          "name": "stdout",
          "text": [
            "demo1.ipynb  Titanic.csv\n"
          ]
        }
      ]
    },
    {
      "cell_type": "markdown",
      "source": [
        "Dogru dosyalar gozukuyor... Calisma dizinin ayarlanması tamamlandı. simdi istenilen repo, bu calisma dizinine indirilecek. bunun icin \"!git clone adress\" bu komuttan sonra repo, calisma dizinine indirilmis olur. kontrol etmek icin \"!ls\" yapılabilir. "
      ],
      "metadata": {
        "id": "WnsTSaJ7LNrj"
      }
    },
    {
      "cell_type": "code",
      "source": [
        "!git clone https://github.com/siddharthjain1611/Iris_dataset.git\n",
        "print(\"\\n\")\n",
        "!ls"
      ],
      "metadata": {
        "colab": {
          "base_uri": "https://localhost:8080/"
        },
        "id": "NTFVXeJ2LopQ",
        "outputId": "397b218a-05de-41fb-8f67-7c139b7f9b6c"
      },
      "execution_count": null,
      "outputs": [
        {
          "output_type": "stream",
          "name": "stdout",
          "text": [
            "fatal: destination path 'Iris_dataset' already exists and is not an empty directory.\n",
            "\n",
            "\n",
            "demo1.ipynb  Iris_dataset  Titanic.csv\n"
          ]
        }
      ]
    },
    {
      "cell_type": "markdown",
      "source": [
        " bu repo'daki dosyaları goruntuleyebilmek icin \"!ls dosyayolu\" kullanılır."
      ],
      "metadata": {
        "id": "0KpsV2ndL802"
      }
    },
    {
      "cell_type": "code",
      "source": [
        "!ls \"/content/drive/My Drive/demo/Iris_dataset\""
      ],
      "metadata": {
        "colab": {
          "base_uri": "https://localhost:8080/"
        },
        "id": "mZJXQKYAMHkp",
        "outputId": "ee73abab-0c15-4c6b-dd4d-5f7463073237"
      },
      "execution_count": null,
      "outputs": [
        {
          "output_type": "stream",
          "name": "stdout",
          "text": [
            " Iris_analysis.csv\t\t\t     output_3_0.png\n",
            " Iris.csv\t\t\t\t     output_5_0.png\n",
            " Iris_Data_Visualization.ipynb\t\t     output_7_0.png\n",
            " iris.py\t\t\t\t     README.md\n",
            "'Machine Learning with Iris Dataset.ipynb'\n"
          ]
        }
      ]
    },
    {
      "cell_type": "markdown",
      "source": [
        "Depo icerisindeki dosyalar ekrana yazildi. bu klasordeki .py uzantılı dosyalar dırekt calıstırılabilir. bunun icin: \"!python3 adres/.pydosyası\" komutu kullanılır. bununla .py uzantılı dosya calıstırılır."
      ],
      "metadata": {
        "id": "yZI-zTm7MRke"
      }
    },
    {
      "cell_type": "code",
      "source": [
        "!python3 Iris_dataset/iris.py"
      ],
      "metadata": {
        "colab": {
          "base_uri": "https://localhost:8080/"
        },
        "id": "EFh-EC4SNgM2",
        "outputId": "1db288c5-c086-4525-fef0-88e452bac214"
      },
      "execution_count": null,
      "outputs": [
        {
          "output_type": "stream",
          "name": "stdout",
          "text": [
            "<Figure size 640x480 with 1 Axes>\n",
            "<Figure size 640x480 with 1 Axes>\n",
            "<Figure size 640x480 with 1 Axes>\n",
            "              precision    recall  f1-score   support\n",
            "\n",
            "    I.setosa       1.00      1.00      1.00        17\n",
            "I.versicolor       0.91      1.00      0.95        20\n",
            " I.virginica       1.00      0.91      0.95        23\n",
            "\n",
            "    accuracy                           0.97        60\n",
            "   macro avg       0.97      0.97      0.97        60\n",
            "weighted avg       0.97      0.97      0.97        60\n",
            "\n"
          ]
        }
      ]
    },
    {
      "cell_type": "markdown",
      "source": [
        " driver'dan indirilen repo'nun ıcıne manuel bakılabılır. buradan .ipynb uzantılı ipython notebook dosyalarını istersek direkt google colab kullanılarak acılabilir. dosya, colab kullanılarak calısılabılır."
      ],
      "metadata": {
        "id": "mndGqOx0NpJA"
      }
    },
    {
      "cell_type": "markdown",
      "source": [
        "# COLAB'a kutuphane yuklemek"
      ],
      "metadata": {
        "id": "7VVhIuJ9Oih_"
      }
    },
    {
      "cell_type": "code",
      "source": [
        ""
      ],
      "metadata": {
        "id": "KI57_ee1OnLp"
      },
      "execution_count": null,
      "outputs": []
    },
    {
      "cell_type": "markdown",
      "source": [
        "colab'a kutuphane yuklemek ıcın \"!pip install\" ya da \"!apt-get install\" komutları kullanılır. ornegın keras machine learnıng ıcın kullanılan unlu bır kutuphanedır."
      ],
      "metadata": {
        "id": "OH0drQQcOpqX"
      }
    },
    {
      "cell_type": "code",
      "source": [
        "!pip install -q keras"
      ],
      "metadata": {
        "id": "HtR5xJWjO5sK"
      },
      "execution_count": null,
      "outputs": []
    },
    {
      "cell_type": "markdown",
      "source": [
        "keras'ı kullanmak ıcın \"import keras\" ;  yuklu versıyon kontrolu ıcın \"keras.--version--\" yazılır."
      ],
      "metadata": {
        "id": "HIlm-xyAO_lX"
      }
    },
    {
      "cell_type": "code",
      "source": [
        "import keras\n",
        "keras.__version__"
      ],
      "metadata": {
        "colab": {
          "base_uri": "https://localhost:8080/",
          "height": 36
        },
        "id": "5N5G7yICPL7H",
        "outputId": "84ae7438-91b8-48d1-ea8f-d14c42f52314"
      },
      "execution_count": null,
      "outputs": [
        {
          "output_type": "execute_result",
          "data": {
            "text/plain": [
              "'2.8.0'"
            ],
            "application/vnd.google.colaboratory.intrinsic+json": {
              "type": "string"
            }
          },
          "metadata": {},
          "execution_count": 24
        }
      ]
    }
  ]
}